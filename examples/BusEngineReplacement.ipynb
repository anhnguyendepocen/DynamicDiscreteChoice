{
 "cells": [
  {
   "cell_type": "markdown",
   "metadata": {},
   "source": [
    "# Bus Engine Replacement Example\n",
    "\n",
    "The first use of the NFXP model was for a bus engine replacement model by Rust. What follows below is a simplified version of Rust's ([@Rust1987]) model using simulated data.\n",
    "\n",
    "In the bus engine replacement model, a repairman is trying to minimize their discounted maintenance costs (in an infinite horizon setting). Each period they decide whether to either replace a bus engine or perform maintenance. Maintenance costs that are linear with the mileage acculumated engine. Bus engine mileage is discretized into 10 bins. Each time step the bus engine mileage increases 0-2 bins if they chose to not replace the bus engine. The bus engine replacement cost is unknown to the researcher but can be estimated by observing the repairman.\n",
    "\n",
    "[@Rust1987]: http://people.hss.caltech.edu/~mshum/stats/rust.pdf \"Optimal Replacement of GMC Bus Engines: An Emperical Model of Harold Zurcher\""
   ]
  },
  {
   "cell_type": "code",
   "execution_count": 1,
   "metadata": {
    "collapsed": false
   },
   "outputs": [
    {
     "data": {
      "text/plain": [
       "Bus"
      ]
     },
     "execution_count": 1,
     "metadata": {},
     "output_type": "execute_result"
    }
   ],
   "source": [
    "module Bus\n",
    "import Distributions\n",
    "import Optim\n",
    "import NLsolve\n",
    "using DynamicDiscreteChoice.General\n",
    "using DynamicDiscreteChoice.NestedFixedPoint\n",
    "\n",
    "const D = Distributions\n",
    "const N = NestedFixedPoint\n",
    "\n",
    "function call(utility::Utility{Val{:bus}}, state, action)\n",
    "    # maintenance cost normalized to one\n",
    "    mileage = state[1]\n",
    "    replacement_decision = action[1]\n",
    "    replacement_cost = utility.θ[1]\n",
    "    if replacement_decision==:keep\n",
    "        return -mileage\n",
    "    else\n",
    "        return -replacement_cost\n",
    "    end\n",
    "end\n",
    "\n",
    "immutable BusTransitionFamily\n",
    "    statespace\n",
    "    actionspace\n",
    "    θ_transition\n",
    "end\n",
    "const NullableV = Nullable{Vector{Float64}}\n",
    "function Base.call(bt::BusTransitionFamily, θ_maybe::NullableV=NullableV())\n",
    "    θ_transition = get(θ_maybe, bt.θ_transition)\n",
    "    push!(θ_transition, 1-sum(θ_transition))\n",
    "    \n",
    "    n = length(bt.statespace)\n",
    "    m = length(bt.actionspace)\n",
    "    transit = Array(Vector{Int64}, n, m)\n",
    "    replace = [1, min(2,n), min(3,n)]\n",
    "    for i=1:n\n",
    "        transit[i,1] = [i, min(i+1,n), min(i+2,n)]\n",
    "        transit[i,2] = replace\n",
    "    end\n",
    "    categorical = D.Categorical(θ_transition)\n",
    "    spt = SparseCategoricalTransition(transit, categorical, statespace, actionspace)\n",
    "    return spt  \n",
    "end\n",
    "\n",
    "function N.stage1_solve(method::NFXPSolver{:bus}, problem)\n",
    "    f(x) = problem(x[1:3]) + x[4]*(sum(x[1:3]) - 1.0)\n",
    "    g = NLsolve.not_in_place(x -> Optim.gradient(f, x))\n",
    "    NLsolve.nlsolve(g, [1/3; 1/3; 1/3; 1.0], xtol=1e-6)\n",
    "end\n",
    "N.stage1_n_params(method::NFXPSolver{:bus}) = 2\n",
    "\n",
    "function N.stage2_solve(method::NFXPSolver{:bus}, problem)\n",
    "    Optim.optimize(x -> problem([x]), 0.0, 10.0)\n",
    "end\n",
    "\n",
    "statespace = DiscreteVariableSpace(\n",
    "    :busstate,\n",
    "    [:mileage],\n",
    "    (collect(0.0:9.0),)\n",
    ")\n",
    "actionspace = DiscreteVariableSpace(\n",
    "    :busaction,\n",
    "    [:replacement_decision],\n",
    "    ([:keep, :replace],)\n",
    ")\n",
    "transitionfamily = BusTransitionFamily(statespace, actionspace, [.4, .2])\n",
    "solver = NFXPSolver{:bus}()\n",
    "\n",
    "const β = 0.95\n",
    "const θ_utility = [6.0]\n",
    "const θ_transition = [0.5, 0.3]\n",
    "\n",
    "model_family = NFXPFamily(\n",
    "    statespace,\n",
    "    actionspace,\n",
    "    transitionfamily,\n",
    "    UtilityFamily{Val{:bus}}(),\n",
    "    β)\n",
    "\n",
    "# Create a simulated dataset using the θ_utility and θ_transition parameters \n",
    "mock_result = mockup(model_family, θ_transition, θ_utility)\n",
    "srand(100)\n",
    "data = sample(mock_result, 1, episode_length=25, n_agents=100)\n",
    "\n",
    "# Fit the model on the simulated data\n",
    "result = fit(model_family, data, solver)\n",
    "end"
   ]
  },
  {
   "cell_type": "code",
   "execution_count": 2,
   "metadata": {
    "collapsed": false
   },
   "outputs": [
    {
     "data": {
      "text/plain": [
       "Stage 1: \n",
       "Results of Nonlinear Solver Algorithm\n",
       " * Algorithm: Trust-region with dogleg and autoscaling\n",
       " * Starting Point: [0.3333333333333333,0.3333333333333333,0.3333333333333333,1.0]\n",
       " * Zero: [0.4929166666346248,0.3041666666660804,0.20291666670212657,2400.000000337068]\n",
       " * Inf-norm of residuals: 0.000000\n",
       " * Iterations: 6\n",
       " * Convergence: true\n",
       "   * |x - x'| < 1.0e-06: true\n",
       "   * |f(x)| < 1.0e-08: false\n",
       " * Function Calls (f): 7\n",
       " * Jacobian Calls (df/dx): 7\n",
       "\n",
       "Stage 2: \n",
       "Results of Optimization Algorithm\n",
       " * Algorithm: Brent's Method\n",
       " * Search Interval: [0.000000, 10.000000]\n",
       " * Minimum: 6.112454\n",
       " * Value of Function at Minimum: 846.425923\n",
       " * Iterations: 13\n",
       " * Convergence: max(|x - x_upper|, |x - x_lower|) <= 2*(1.5e-08*|x|+2.2e-16): true\n",
       " * Objective Function Calls: 14\n"
      ]
     },
     "execution_count": 2,
     "metadata": {},
     "output_type": "execute_result"
    }
   ],
   "source": [
    "Bus.result"
   ]
  },
  {
   "cell_type": "code",
   "execution_count": 3,
   "metadata": {
    "collapsed": false
   },
   "outputs": [
    {
     "data": {
      "text/plain": [
       "3-element Array{Float64,1}:\n",
       " 1.6095  \n",
       " 0.285274\n",
       " 0.188336"
      ]
     },
     "execution_count": 3,
     "metadata": {},
     "output_type": "execute_result"
    }
   ],
   "source": [
    "vcov = Bus.vcov(Bus.result, Bus.OPG())\n",
    "stderr = diag(vcov).^0.5"
   ]
  },
  {
   "cell_type": "markdown",
   "metadata": {},
   "source": [
    "Since the true value of the replacement cost 6 and the estimated replacement cost was close (5.91) to that the estimator appears to be working. The bus mileage transition probabilities are also close to their true value. The OPG variance covariance matrix shows that the replacement cost parameter is significantly greater than zero."
   ]
  }
 ],
 "metadata": {
  "kernelspec": {
   "display_name": "Julia 0.4.0-pre",
   "language": "julia",
   "name": "julia-0.4"
  },
  "language_info": {
   "file_extension": ".jl",
   "mimetype": "application/julia",
   "name": "julia",
   "version": "0.4.0"
  }
 },
 "nbformat": 4,
 "nbformat_minor": 0
}
